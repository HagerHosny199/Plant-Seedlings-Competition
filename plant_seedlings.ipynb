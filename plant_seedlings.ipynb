{
 "cells": [
  {
   "cell_type": "markdown",
   "metadata": {},
   "source": [
    "## 1- Importing Packages"
   ]
  },
  {
   "cell_type": "code",
   "execution_count": 1,
   "metadata": {},
   "outputs": [],
   "source": [
    "#packages for analysis\n",
    "import pandas as pd\n",
    "import numpy as np\n",
    "import cv2 \n",
    "from glob import glob\n",
    "\n",
    "#packages for visualization\n",
    "import matplotlib.pyplot as plt\n",
    "import seaborn as sns\n",
    "\n",
    "#allows charts to appear in the notebook \n",
    "%matplotlib inline\n",
    "\n",
    "#import OS to share the project dir\n",
    "import os\n",
    "os.chdir('H:\\Barq')\n",
    "\n",
    "#ignoring warnings\n",
    "import warnings\n",
    "warnings.filterwarnings('ignore')\n"
   ]
  },
  {
   "cell_type": "markdown",
   "metadata": {},
   "source": [
    "## 2- Define Constants"
   ]
  },
  {
   "cell_type": "code",
   "execution_count": 2,
   "metadata": {},
   "outputs": [],
   "source": [
    "#define our paths\n",
    "BASE_DATA_FOLDER = \"Plants\"\n",
    "TRAIN_DATA_FOLDER = os.path.join(BASE_DATA_FOLDER, \"train\")\n",
    "RESULT_DATA_FOLDER=os.path.join(BASE_DATA_FOLDER, \"result\")"
   ]
  },
  {
   "cell_type": "markdown",
   "metadata": {},
   "source": [
    "## 3-Reading Unsegmented Data"
   ]
  },
  {
   "cell_type": "code",
   "execution_count": 3,
   "metadata": {},
   "outputs": [
    {
     "name": "stdout",
     "output_type": "stream",
     "text": [
      "reading data from class: Black-grass\n",
      "reading data from class: Charlock\n",
      "reading data from class: Cleavers\n",
      "reading data from class: Common Chickweed\n",
      "reading data from class: Common wheat\n",
      "reading data from class: Fat Hen\n",
      "reading data from class: Loose Silky-bent\n",
      "reading data from class: Maize\n",
      "reading data from class: Scentless Mayweed\n",
      "reading data from class: Shepherds Purse\n",
      "reading data from class: Small-flowered Cranesbill\n",
      "reading data from class: Sugar beet\n"
     ]
    }
   ],
   "source": [
    "images_per_class = {}\n",
    "labels=['Black-grass','Charlock','Cleavers','Common Chickweed','Common wheat'\n",
    "        ,'Fat Hen','Loose Silky-bent','Maize','Scentless Mayweed'\n",
    "        ,'Shepherds Purse','Small-flowered Cranesbill','Sugar beet']\n",
    "# get all classes name\n",
    "for class_folder_name in os.listdir(TRAIN_DATA_FOLDER):\n",
    "    class_folder_path = os.path.join(TRAIN_DATA_FOLDER, class_folder_name)\n",
    "    class_label = class_folder_name\n",
    "    images_per_class[class_label] = []\n",
    "    print(\"reading data from class:\",class_label)\n",
    "    #get the images in each class\n",
    "    for image_path in glob(os.path.join(class_folder_path, \"*.png\")):\n",
    "        image = cv2.imread(image_path, cv2.IMREAD_COLOR)\n",
    "        images_per_class[class_label].append(image)"
   ]
  },
  {
   "cell_type": "markdown",
   "metadata": {},
   "source": [
    "## 4-Segmentation"
   ]
  },
  {
   "cell_type": "code",
   "execution_count": 4,
   "metadata": {},
   "outputs": [],
   "source": [
    "#apply gaussian \n",
    "def sharpen_image(image):\n",
    "    image_blurred = cv2.GaussianBlur(image, (0, 0), 3)\n",
    "    image_sharp = cv2.addWeighted(image, 1.5, image_blurred, -0.5, 0)\n",
    "    return image_sharp"
   ]
  },
  {
   "cell_type": "code",
   "execution_count": null,
   "metadata": {},
   "outputs": [
    {
     "name": "stdout",
     "output_type": "stream",
     "text": [
      "Read My Data\n"
     ]
    }
   ],
   "source": [
    "#convert to hsv and do segmentation\n",
    "print (\"Read My Data\") \n",
    "x_train = [] \n",
    "y_train = [] \n",
    "for j in range(12):\n",
    "    count=0\n",
    "    for img in images_per_class[labels[j]] :\n",
    "            count=count+1\n",
    "            ## convert to hsv \n",
    "            hsv = cv2.cvtColor(img, cv2.COLOR_BGR2HSV)\n",
    "            \n",
    "            ## mask of green (36,0,0) ~ (70, 255,255) #(25, 0, 10), (70, 255,255)\n",
    "            #best (25, 40, 30), (95, 255,255)\n",
    "            mask = cv2.inRange(hsv, (25, 40, 50), (75, 255, 255))\n",
    "            kernel = cv2.getStructuringElement(cv2.MORPH_ELLIPSE, (11,11))\n",
    "            mask = cv2.morphologyEx(mask, cv2.MORPH_CLOSE, kernel)\n",
    "            \n",
    "            ## slice the green\n",
    "            imask = mask>0\n",
    "            green = np.zeros_like(img, np.uint8)\n",
    "            green[imask] = img[imask]\n",
    "            green=sharpen_image(green)\n",
    "            x_train.append(np.array(img))\n",
    "            y_train.append(labels[j])\n",
    "            \n",
    "            ## save my new image\n",
    "            image_name = labels[j]+str(count)+\".png\"\n",
    "           # imshow(green)\n",
    "            #cv2.imwrite(imageName, green)\n",
    "            cv2.imwrite(os.path.join(RESULT_DATA_FOLDER ,image_name), green)\n",
    "            \n",
    "print(\"Done\")"
   ]
  },
  {
   "cell_type": "markdown",
   "metadata": {},
   "source": [
    "# Reading Segmented Data"
   ]
  },
  {
   "cell_type": "code",
   "execution_count": 8,
   "metadata": {},
   "outputs": [],
   "source": [
    "seg_images=[]\n",
    "for image_path in glob(os.path.join(RESULT_DATA_FOLDER, \"*.png\")):\n",
    "        image = cv2.imread(image_path, cv2.IMREAD_COLOR)\n",
    "        seg_images.append(image)"
   ]
  },
  {
   "cell_type": "markdown",
   "metadata": {},
   "source": [
    "## Applying Min Filter"
   ]
  },
  {
   "cell_type": "code",
   "execution_count": null,
   "metadata": {},
   "outputs": [],
   "source": []
  }
 ],
 "metadata": {
  "kernelspec": {
   "display_name": "Python 3",
   "language": "python",
   "name": "python3"
  },
  "language_info": {
   "codemirror_mode": {
    "name": "ipython",
    "version": 3
   },
   "file_extension": ".py",
   "mimetype": "text/x-python",
   "name": "python",
   "nbconvert_exporter": "python",
   "pygments_lexer": "ipython3",
   "version": "3.6.5"
  }
 },
 "nbformat": 4,
 "nbformat_minor": 2
}
